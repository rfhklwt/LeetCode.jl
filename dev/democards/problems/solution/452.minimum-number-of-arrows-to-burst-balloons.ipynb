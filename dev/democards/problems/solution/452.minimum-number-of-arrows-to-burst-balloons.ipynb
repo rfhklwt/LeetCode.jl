{
 "cells": [
  {
   "outputs": [
    {
     "output_type": "execute_result",
     "data": {
      "text/plain": "find_min_arrow_shots (generic function with 1 method)"
     },
     "metadata": {},
     "execution_count": 1
    }
   ],
   "cell_type": "code",
   "source": [
    "using LeetCode, Test\n",
    "\n",
    "function find_min_arrow_shots(points::Vector{Vector{Int}})::Int\n",
    "    if isempty(points)\n",
    "        return 0\n",
    "    end\n",
    "    sort!(points; by=x -> x[2])\n",
    "    ed, res = points[1][2], 1\n",
    "    for point in points\n",
    "        if point[1] > ed\n",
    "            res += 1\n",
    "            ed = point[2]\n",
    "        end\n",
    "    end\n",
    "    return res\n",
    "end"
   ],
   "metadata": {},
   "execution_count": 1
  },
  {
   "cell_type": "markdown",
   "source": [
    "---\n",
    "\n",
    "*This notebook was generated using [Literate.jl](https://github.com/fredrikekre/Literate.jl).*"
   ],
   "metadata": {}
  }
 ],
 "nbformat_minor": 3,
 "metadata": {
  "language_info": {
   "file_extension": ".jl",
   "mimetype": "application/julia",
   "name": "julia",
   "version": "1.5.3"
  },
  "kernelspec": {
   "name": "julia-1.5",
   "display_name": "Julia 1.5.3",
   "language": "julia"
  }
 },
 "nbformat": 4
}
