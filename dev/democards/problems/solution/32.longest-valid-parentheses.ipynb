{
 "cells": [
  {
   "outputs": [
    {
     "output_type": "execute_result",
     "data": {
      "text/plain": "longest_valid_parentheses (generic function with 1 method)"
     },
     "metadata": {},
     "execution_count": 1
    }
   ],
   "cell_type": "code",
   "source": [
    "using LeetCode, Test\n",
    "\n",
    "function longest_valid_parentheses(s::String)::Int\n",
    "    dp = zeros(Int, length(s))\n",
    "    n = 0\n",
    "    for i in 2:length(s)\n",
    "        if s[i] == ')'\n",
    "            if s[i - 1] == '('\n",
    "                # case 1: ()()\n",
    "                dp[i] = i == 2 ? 2 : dp[i - 2] + 2\n",
    "            else\n",
    "                # case 2: (())\n",
    "                i₍ = i - dp[i - 1] - 1\n",
    "                if i₍ >= 1 && s[i₍] == '('\n",
    "                    if dp[i - 1] > 0\n",
    "                        dp[i] = dp[i - 1] + 2 + (i₍ == 1 ? 0 : dp[i₍ - 1])\n",
    "                    end\n",
    "                end\n",
    "            end\n",
    "            n = max(n, dp[i])\n",
    "        end\n",
    "    end\n",
    "    return n\n",
    "end"
   ],
   "metadata": {},
   "execution_count": 1
  },
  {
   "cell_type": "markdown",
   "source": [
    "---\n",
    "\n",
    "*This notebook was generated using [Literate.jl](https://github.com/fredrikekre/Literate.jl).*"
   ],
   "metadata": {}
  }
 ],
 "nbformat_minor": 3,
 "metadata": {
  "language_info": {
   "file_extension": ".jl",
   "mimetype": "application/julia",
   "name": "julia",
   "version": "1.5.3"
  },
  "kernelspec": {
   "name": "julia-1.5",
   "display_name": "Julia 1.5.3",
   "language": "julia"
  }
 },
 "nbformat": 4
}
