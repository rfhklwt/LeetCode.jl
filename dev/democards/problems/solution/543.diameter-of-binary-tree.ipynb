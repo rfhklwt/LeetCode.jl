{
 "cells": [
  {
   "outputs": [
    {
     "output_type": "execute_result",
     "data": {
      "text/plain": "_max_depth_to_leaf (generic function with 2 methods)"
     },
     "metadata": {},
     "execution_count": 1
    }
   ],
   "cell_type": "code",
   "source": [
    "using LeetCode, Test\n",
    "\n",
    "function diameter_of_binary_tree(root::TreeNode)::Int\n",
    "    return max(\n",
    "        diameter_of_binary_tree(root.left),\n",
    "        diameter_of_binary_tree(root.right),\n",
    "        _max_depth_to_leaf(root.left) + _max_depth_to_leaf(root.right) + 1,\n",
    "    ) - 1\n",
    "end\n",
    "\n",
    "diameter_of_binary_tree(root::Nothing) = 0\n",
    "\n",
    "function _max_depth_to_leaf(root::TreeNode)\n",
    "    return max(1 + _max_depth_to_leaf(root.left), 1 + _max_depth_to_leaf(root.right))\n",
    "end\n",
    "\n",
    "_max_depth_to_leaf(::Nothing) = 0"
   ],
   "metadata": {},
   "execution_count": 1
  },
  {
   "cell_type": "markdown",
   "source": [
    "---\n",
    "\n",
    "*This notebook was generated using [Literate.jl](https://github.com/fredrikekre/Literate.jl).*"
   ],
   "metadata": {}
  }
 ],
 "nbformat_minor": 3,
 "metadata": {
  "language_info": {
   "file_extension": ".jl",
   "mimetype": "application/julia",
   "name": "julia",
   "version": "1.5.3"
  },
  "kernelspec": {
   "name": "julia-1.5",
   "display_name": "Julia 1.5.3",
   "language": "julia"
  }
 },
 "nbformat": 4
}
