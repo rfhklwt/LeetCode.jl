{
 "cells": [
  {
   "outputs": [
    {
     "output_type": "execute_result",
     "data": {
      "text/plain": "max_freq (generic function with 1 method)"
     },
     "metadata": {},
     "execution_count": 1
    }
   ],
   "cell_type": "code",
   "source": [
    "using LeetCode, Test\n",
    "\n",
    "function max_freq(s::String, max_letters::Int, min_size::Int, max_size::Int)::Int\n",
    "    counts = Dict{SubString,Int}()\n",
    "    if max_size < min_size\n",
    "        0\n",
    "    else\n",
    "        for i in 1:(length(s) - min_size + 1)\n",
    "            for j in (i + min_size - 1):min(length(s), i + max_size + 1)\n",
    "                ŝ = SubString(s, i, j)\n",
    "                if length(Set(ŝ)) <= max_letters\n",
    "                    counts[ŝ] = get(counts, ŝ, 0) + 1\n",
    "                end\n",
    "            end\n",
    "        end\n",
    "    end\n",
    "    return length(counts) > 0 ? maximum(values(counts)) : 0\n",
    "end"
   ],
   "metadata": {},
   "execution_count": 1
  },
  {
   "cell_type": "markdown",
   "source": [
    "---\n",
    "\n",
    "*This notebook was generated using [Literate.jl](https://github.com/fredrikekre/Literate.jl).*"
   ],
   "metadata": {}
  }
 ],
 "nbformat_minor": 3,
 "metadata": {
  "language_info": {
   "file_extension": ".jl",
   "mimetype": "application/julia",
   "name": "julia",
   "version": "1.5.3"
  },
  "kernelspec": {
   "name": "julia-1.5",
   "display_name": "Julia 1.5.3",
   "language": "julia"
  }
 },
 "nbformat": 4
}
