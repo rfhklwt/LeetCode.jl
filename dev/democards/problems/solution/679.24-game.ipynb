{
 "cells": [
  {
   "outputs": [
    {
     "output_type": "execute_result",
     "data": {
      "text/plain": "judgePoint24 (generic function with 1 method)"
     },
     "metadata": {},
     "execution_count": 1
    }
   ],
   "cell_type": "code",
   "source": [
    "using LeetCode, Test\n",
    "\n",
    "function judgePoint24(nums::Vector)::Bool\n",
    "    n = length(nums)\n",
    "    if n == 1\n",
    "        return nums[1] == 24\n",
    "    else\n",
    "        for i in 1:n\n",
    "            for j in 1:n\n",
    "                if j != i\n",
    "                    rest = [nums[k] for k in 1:n if k != i && k != j]\n",
    "                    if judgePoint24([rest..., nums[i] + nums[j]]) ||\n",
    "                       judgePoint24([rest..., nums[i] - nums[j]]) ||\n",
    "                       judgePoint24([rest..., nums[j] - nums[i]]) ||\n",
    "                       judgePoint24([rest..., nums[i] * nums[j]]) ||\n",
    "                       (!iszero(nums[j]) && judgePoint24([rest..., nums[i]//nums[j]])) ||\n",
    "                       (!iszero(nums[i]) && judgePoint24([rest..., nums[j]//nums[i]]))\n",
    "                        return true\n",
    "                    end\n",
    "                end\n",
    "            end\n",
    "        end\n",
    "        false\n",
    "    end\n",
    "end"
   ],
   "metadata": {},
   "execution_count": 1
  },
  {
   "cell_type": "markdown",
   "source": [
    "---\n",
    "\n",
    "*This notebook was generated using [Literate.jl](https://github.com/fredrikekre/Literate.jl).*"
   ],
   "metadata": {}
  }
 ],
 "nbformat_minor": 3,
 "metadata": {
  "language_info": {
   "file_extension": ".jl",
   "mimetype": "application/julia",
   "name": "julia",
   "version": "1.5.3"
  },
  "kernelspec": {
   "name": "julia-1.5",
   "display_name": "Julia 1.5.3",
   "language": "julia"
  }
 },
 "nbformat": 4
}
