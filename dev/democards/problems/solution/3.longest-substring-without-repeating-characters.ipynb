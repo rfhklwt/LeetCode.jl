{
 "cells": [
  {
   "outputs": [
    {
     "output_type": "execute_result",
     "data": {
      "text/plain": "length_of_longest_substring (generic function with 1 method)"
     },
     "metadata": {},
     "execution_count": 1
    }
   ],
   "cell_type": "code",
   "source": [
    "using LeetCode, Test\n",
    "\n",
    "function length_of_longest_substring(s::String)::Int\n",
    "    seen = Set{Char}()\n",
    "    l = 1\n",
    "    res = 0\n",
    "\n",
    "    for r in 1: length(s)\n",
    "        while s[r] in seen\n",
    "            pop!(seen, s[l])\n",
    "            l += 1\n",
    "        end\n",
    "\n",
    "        push!(seen, s[r])\n",
    "        res = max(res, r - l + 1)\n",
    "    end\n",
    "\n",
    "    return res\n",
    "end"
   ],
   "metadata": {},
   "execution_count": 1
  },
  {
   "cell_type": "markdown",
   "source": [
    "---\n",
    "\n",
    "*This notebook was generated using [Literate.jl](https://github.com/fredrikekre/Literate.jl).*"
   ],
   "metadata": {}
  }
 ],
 "nbformat_minor": 3,
 "metadata": {
  "language_info": {
   "file_extension": ".jl",
   "mimetype": "application/julia",
   "name": "julia",
   "version": "1.5.3"
  },
  "kernelspec": {
   "name": "julia-1.5",
   "display_name": "Julia 1.5.3",
   "language": "julia"
  }
 },
 "nbformat": 4
}
