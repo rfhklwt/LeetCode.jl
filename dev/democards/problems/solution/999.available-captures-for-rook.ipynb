{
 "cells": [
  {
   "outputs": [
    {
     "output_type": "execute_result",
     "data": {
      "text/plain": "num_rook_captures (generic function with 1 method)"
     },
     "metadata": {},
     "execution_count": 1
    }
   ],
   "cell_type": "code",
   "source": [
    "using LeetCode, Test\n",
    "\n",
    "function num_rook_captures(board::Matrix{Char})::Int\n",
    "    res = 0\n",
    "    i, j = findfirst(==('R'), board).I\n",
    "\n",
    "    for v in (\n",
    "        @view(board[i, (j + 1):end]),  ## right\n",
    "        @view(board[i, (j - 1):-1:1]),    ## left\n",
    "        @view(board[(i - 1):-1:1, j]),    ## up\n",
    "        @view(board[(i + 1):end, j]),  ## down\n",
    "    )\n",
    "        x_ind = findfirst(!=('.'), v)\n",
    "        if !isnothing(x_ind) && v[x_ind] == 'p'\n",
    "            res += 1\n",
    "        end\n",
    "    end\n",
    "    return res\n",
    "end"
   ],
   "metadata": {},
   "execution_count": 1
  },
  {
   "cell_type": "markdown",
   "source": [
    "---\n",
    "\n",
    "*This notebook was generated using [Literate.jl](https://github.com/fredrikekre/Literate.jl).*"
   ],
   "metadata": {}
  }
 ],
 "nbformat_minor": 3,
 "metadata": {
  "language_info": {
   "file_extension": ".jl",
   "mimetype": "application/julia",
   "name": "julia",
   "version": "1.5.3"
  },
  "kernelspec": {
   "name": "julia-1.5",
   "display_name": "Julia 1.5.3",
   "language": "julia"
  }
 },
 "nbformat": 4
}
