{
 "cells": [
  {
   "outputs": [
    {
     "output_type": "execute_result",
     "data": {
      "text/plain": "reorganize_string (generic function with 1 method)"
     },
     "metadata": {},
     "execution_count": 1
    }
   ],
   "cell_type": "code",
   "source": [
    "using LeetCode, Test\n",
    "\n",
    "function reorganize_string(S::String)\n",
    "    char_arr = codeunits(S)\n",
    "    ascii_a, len = Int('a'), length(S)\n",
    "    mp = fill(0, 26)\n",
    "    for ch in char_arr\n",
    "        mp[ch - ascii_a + 1] += 1\n",
    "    end\n",
    "    max_freq = argmax(mp)\n",
    "    if mp[max_freq] > (len + 1) ÷ 2\n",
    "        return \"\"\n",
    "    end\n",
    "    res = fill('a', len)\n",
    "    idx = 1\n",
    "    for i in 1:mp[max_freq]\n",
    "        res[idx] = Char(max_freq + ascii_a - 1)\n",
    "        idx += 2\n",
    "    end\n",
    "    mp[max_freq] = 0\n",
    "    for i in 1:26\n",
    "        for j in 1:mp[i]\n",
    "            (idx > len) && (idx = 2)\n",
    "            res[idx] = Char(i + ascii_a - 1)\n",
    "            idx += 2\n",
    "        end\n",
    "    end\n",
    "    # println(res)\n",
    "    return String(res)\n",
    "end"
   ],
   "metadata": {},
   "execution_count": 1
  },
  {
   "cell_type": "markdown",
   "source": [
    "---\n",
    "\n",
    "*This notebook was generated using [Literate.jl](https://github.com/fredrikekre/Literate.jl).*"
   ],
   "metadata": {}
  }
 ],
 "nbformat_minor": 3,
 "metadata": {
  "language_info": {
   "file_extension": ".jl",
   "mimetype": "application/julia",
   "name": "julia",
   "version": "1.5.3"
  },
  "kernelspec": {
   "name": "julia-1.5",
   "display_name": "Julia 1.5.3",
   "language": "julia"
  }
 },
 "nbformat": 4
}
