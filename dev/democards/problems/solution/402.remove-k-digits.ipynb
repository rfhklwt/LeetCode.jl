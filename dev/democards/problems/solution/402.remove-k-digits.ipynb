{
 "cells": [
  {
   "outputs": [
    {
     "output_type": "execute_result",
     "data": {
      "text/plain": "remove_kdigits (generic function with 1 method)"
     },
     "metadata": {},
     "execution_count": 1
    }
   ],
   "cell_type": "code",
   "source": [
    "using LeetCode, Test\n",
    "\n",
    "function remove_kdigits(num::String, k::Int)::String\n",
    "    num_code = codeunits(num)\n",
    "    stk = UInt8[]\n",
    "    for ch in num_code\n",
    "        if k == 0 || isempty(stk)\n",
    "            push!(stk, ch)\n",
    "        else\n",
    "            while !isempty(stk) && stk[end] > ch && k > 0\n",
    "                pop!(stk)\n",
    "                k -= 1\n",
    "            end\n",
    "            push!(stk, ch)\n",
    "        end\n",
    "    end\n",
    "    idx = findfirst(x -> x != UInt8('0'), stk)\n",
    "    if idx === nothing\n",
    "        return \"0\"\n",
    "    end\n",
    "    return String(@view stk[idx:(end - k)])\n",
    "end"
   ],
   "metadata": {},
   "execution_count": 1
  },
  {
   "cell_type": "markdown",
   "source": [
    "---\n",
    "\n",
    "*This notebook was generated using [Literate.jl](https://github.com/fredrikekre/Literate.jl).*"
   ],
   "metadata": {}
  }
 ],
 "nbformat_minor": 3,
 "metadata": {
  "language_info": {
   "file_extension": ".jl",
   "mimetype": "application/julia",
   "name": "julia",
   "version": "1.5.3"
  },
  "kernelspec": {
   "name": "julia-1.5",
   "display_name": "Julia 1.5.3",
   "language": "julia"
  }
 },
 "nbformat": 4
}
