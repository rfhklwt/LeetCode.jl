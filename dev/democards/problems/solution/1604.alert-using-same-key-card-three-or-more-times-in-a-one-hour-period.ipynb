{
 "cells": [
  {
   "outputs": [
    {
     "output_type": "execute_result",
     "data": {
      "text/plain": "alert_names (generic function with 1 method)"
     },
     "metadata": {},
     "execution_count": 1
    }
   ],
   "cell_type": "code",
   "source": [
    "using LeetCode, Test\n",
    "\n",
    "using Dates\n",
    "function alert_names(key_name::Vector{String}, key_time::Vector{String})\n",
    "    res = Vector{String}()\n",
    "    mp = Dict{String,Vector{Time}}()\n",
    "    for (idx, name) in enumerate(key_name)\n",
    "        if !haskey(mp, name)\n",
    "            mp[name] = String[]\n",
    "        end\n",
    "        push!(mp[name], Time(key_time[idx]))\n",
    "    end\n",
    "    for (name, time) in mp\n",
    "        sort!(time)\n",
    "        for idx in 1:(length(time) - 2)\n",
    "            time1h = time[idx] + Hour(1)\n",
    "            if time[idx + 1] <= time1h && time[idx + 2] <= time1h\n",
    "                push!(res, name)\n",
    "                break\n",
    "            end\n",
    "        end\n",
    "    end\n",
    "    return sort!(res)\n",
    "end"
   ],
   "metadata": {},
   "execution_count": 1
  },
  {
   "cell_type": "markdown",
   "source": [
    "---\n",
    "\n",
    "*This notebook was generated using [Literate.jl](https://github.com/fredrikekre/Literate.jl).*"
   ],
   "metadata": {}
  }
 ],
 "nbformat_minor": 3,
 "metadata": {
  "language_info": {
   "file_extension": ".jl",
   "mimetype": "application/julia",
   "name": "julia",
   "version": "1.5.3"
  },
  "kernelspec": {
   "name": "julia-1.5",
   "display_name": "Julia 1.5.3",
   "language": "julia"
  }
 },
 "nbformat": 4
}
