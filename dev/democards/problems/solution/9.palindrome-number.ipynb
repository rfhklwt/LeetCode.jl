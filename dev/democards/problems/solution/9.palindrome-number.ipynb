{
 "cells": [
  {
   "outputs": [
    {
     "output_type": "execute_result",
     "data": {
      "text/plain": "is_palindrome (generic function with 1 method)"
     },
     "metadata": {},
     "execution_count": 1
    }
   ],
   "cell_type": "code",
   "source": [
    "using LeetCode, Test\n",
    "\n",
    "function is_palindrome(x::Int)::Bool\n",
    "    if x < 0\n",
    "        false\n",
    "    else\n",
    "        y = x\n",
    "        y_reverse = 0\n",
    "        while y > 0\n",
    "            y, n = divrem(y, 10)\n",
    "            y_reverse = y_reverse * 10 + n\n",
    "        end\n",
    "        x == y_reverse\n",
    "    end\n",
    "end"
   ],
   "metadata": {},
   "execution_count": 1
  },
  {
   "cell_type": "markdown",
   "source": [
    "---\n",
    "\n",
    "*This notebook was generated using [Literate.jl](https://github.com/fredrikekre/Literate.jl).*"
   ],
   "metadata": {}
  }
 ],
 "nbformat_minor": 3,
 "metadata": {
  "language_info": {
   "file_extension": ".jl",
   "mimetype": "application/julia",
   "name": "julia",
   "version": "1.5.3"
  },
  "kernelspec": {
   "name": "julia-1.5",
   "display_name": "Julia 1.5.3",
   "language": "julia"
  }
 },
 "nbformat": 4
}
