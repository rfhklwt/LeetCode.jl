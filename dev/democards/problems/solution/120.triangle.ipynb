{
 "cells": [
  {
   "outputs": [
    {
     "output_type": "execute_result",
     "data": {
      "text/plain": "minimum_total (generic function with 1 method)"
     },
     "metadata": {},
     "execution_count": 1
    }
   ],
   "cell_type": "code",
   "source": [
    "using LeetCode, Test\n",
    "\n",
    "function minimum_total(triangle::Vector{Vector{Int}})\n",
    "    length(triangle) == 1 && return triangle[1][1]\n",
    "    dp = fill(0, length(triangle))\n",
    "    tmp = dp[:]\n",
    "    dp[1:2] = triangle[2] .+ triangle[1][1]\n",
    "    for i in 3:length(triangle)\n",
    "        tmp[1] = dp[1] + triangle[i][1]\n",
    "        for j in 2:(i - 1)\n",
    "            tmp[j] = min(dp[j], dp[j - 1]) + triangle[i][j]\n",
    "        end\n",
    "        tmp[i] = dp[i - 1] + triangle[i][i]\n",
    "        tmp, dp = dp, tmp\n",
    "    end\n",
    "    return minimum(dp)\n",
    "end"
   ],
   "metadata": {},
   "execution_count": 1
  },
  {
   "cell_type": "markdown",
   "source": [
    "---\n",
    "\n",
    "*This notebook was generated using [Literate.jl](https://github.com/fredrikekre/Literate.jl).*"
   ],
   "metadata": {}
  }
 ],
 "nbformat_minor": 3,
 "metadata": {
  "language_info": {
   "file_extension": ".jl",
   "mimetype": "application/julia",
   "name": "julia",
   "version": "1.5.3"
  },
  "kernelspec": {
   "name": "julia-1.5",
   "display_name": "Julia 1.5.3",
   "language": "julia"
  }
 },
 "nbformat": 4
}
