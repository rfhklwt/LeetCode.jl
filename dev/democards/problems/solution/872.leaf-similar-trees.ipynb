{
 "cells": [
  {
   "outputs": [
    {
     "output_type": "execute_result",
     "data": {
      "text/plain": "find_leaves! (generic function with 2 methods)"
     },
     "metadata": {},
     "execution_count": 1
    }
   ],
   "cell_type": "code",
   "source": [
    "using LeetCode, Test\n",
    "\n",
    "function leaf_similar(root1::TreeNode{V}, root2::TreeNode{V})::Bool where {V}\n",
    "    leaves1 = V[]\n",
    "    leaves2 = V[]\n",
    "    find_leaves!(root1, leaves1)\n",
    "    find_leaves!(root2, leaves2)\n",
    "    return leaves1 == leaves2\n",
    "end\n",
    "\n",
    "function find_leaves!(t::TreeNode, leaves)\n",
    "    if isnothing(t.left) && isnothing(t.right)\n",
    "        push!(leaves, t.val)\n",
    "    else\n",
    "        find_leaves!(t.left, leaves)\n",
    "        find_leaves!(t.right, leaves)\n",
    "    end\n",
    "end\n",
    "\n",
    "find_leaves!(::Nothing, leaves) = nothing"
   ],
   "metadata": {},
   "execution_count": 1
  },
  {
   "cell_type": "markdown",
   "source": [
    "---\n",
    "\n",
    "*This notebook was generated using [Literate.jl](https://github.com/fredrikekre/Literate.jl).*"
   ],
   "metadata": {}
  }
 ],
 "nbformat_minor": 3,
 "metadata": {
  "language_info": {
   "file_extension": ".jl",
   "mimetype": "application/julia",
   "name": "julia",
   "version": "1.5.3"
  },
  "kernelspec": {
   "name": "julia-1.5",
   "display_name": "Julia 1.5.3",
   "language": "julia"
  }
 },
 "nbformat": 4
}
