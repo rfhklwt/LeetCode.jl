{
 "cells": [
  {
   "outputs": [
    {
     "output_type": "execute_result",
     "data": {
      "text/plain": "find_rotate_steps (generic function with 1 method)"
     },
     "metadata": {},
     "execution_count": 1
    }
   ],
   "cell_type": "code",
   "source": [
    "using LeetCode, Test\n",
    "\n",
    "function find_rotate_steps(ring::String, key::String)\n",
    "    lenr, lenk = length(ring), length(key)\n",
    "    dp1 = fill(typemax(Int), lenr)\n",
    "    dp2 = dp1[:]\n",
    "    mp = [Int[] for i in 1:26]\n",
    "    for i in 1:lenr\n",
    "        push!(mp[ring[i] - 'a' + 1], i)\n",
    "    end\n",
    "    for idx in mp[key[1] - 'a' + 1]\n",
    "        dp1[idx] = min(idx - 1, lenr - idx)\n",
    "    end\n",
    "    for i in 2:lenk\n",
    "        for idx1 in mp[key[i] - 'a' + 1]\n",
    "            for idx2 in mp[key[i - 1] - 'a' + 1]\n",
    "                dp2[idx1] = min(\n",
    "                    dp2[idx1], dp1[idx2] + min(abs(idx2 - idx1), lenr - abs(idx2 - idx1))\n",
    "                )\n",
    "            end\n",
    "        end\n",
    "        dp1, dp2 = dp2, dp1\n",
    "        dp2 .= typemax(Int)\n",
    "    end\n",
    "    return minimum(dp1) + lenk\n",
    "end"
   ],
   "metadata": {},
   "execution_count": 1
  },
  {
   "cell_type": "markdown",
   "source": [
    "---\n",
    "\n",
    "*This notebook was generated using [Literate.jl](https://github.com/fredrikekre/Literate.jl).*"
   ],
   "metadata": {}
  }
 ],
 "nbformat_minor": 3,
 "metadata": {
  "language_info": {
   "file_extension": ".jl",
   "mimetype": "application/julia",
   "name": "julia",
   "version": "1.5.3"
  },
  "kernelspec": {
   "name": "julia-1.5",
   "display_name": "Julia 1.5.3",
   "language": "julia"
  }
 },
 "nbformat": 4
}
