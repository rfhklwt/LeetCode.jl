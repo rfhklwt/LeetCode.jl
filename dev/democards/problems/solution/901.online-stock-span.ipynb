{
 "cells": [
  {
   "outputs": [
    {
     "output_type": "execute_result",
     "data": {
      "text/plain": "next! (generic function with 1 method)"
     },
     "metadata": {},
     "execution_count": 1
    }
   ],
   "cell_type": "code",
   "source": [
    "using LeetCode, Test\n",
    "\n",
    "Base.@kwdef struct StockSpanner\n",
    "    history::Vector{Pair{Int,Int}} = []\n",
    "end\n",
    "\n",
    "function next!(s::StockSpanner, price::Int)\n",
    "    span = 1\n",
    "    while !isempty(s.history) && s.history[end][1] <= price\n",
    "        span += s.history[end][2]\n",
    "        pop!(s.history)\n",
    "    end\n",
    "    push!(s.history, price => span)\n",
    "    return span\n",
    "end"
   ],
   "metadata": {},
   "execution_count": 1
  },
  {
   "cell_type": "markdown",
   "source": [
    "---\n",
    "\n",
    "*This notebook was generated using [Literate.jl](https://github.com/fredrikekre/Literate.jl).*"
   ],
   "metadata": {}
  }
 ],
 "nbformat_minor": 3,
 "metadata": {
  "language_info": {
   "file_extension": ".jl",
   "mimetype": "application/julia",
   "name": "julia",
   "version": "1.5.3"
  },
  "kernelspec": {
   "name": "julia-1.5",
   "display_name": "Julia 1.5.3",
   "language": "julia"
  }
 },
 "nbformat": 4
}
