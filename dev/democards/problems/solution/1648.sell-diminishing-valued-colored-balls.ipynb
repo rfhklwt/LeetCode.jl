{
 "cells": [
  {
   "outputs": [
    {
     "output_type": "execute_result",
     "data": {
      "text/plain": "max_profit (generic function with 1 method)"
     },
     "metadata": {},
     "execution_count": 1
    }
   ],
   "cell_type": "code",
   "source": [
    "using LeetCode, Test\n",
    "\n",
    "function max_profit(inventory::Vector{Int}, orders::Int)\n",
    "    rest = sum(inventory) - orders\n",
    "    sort!(inventory)\n",
    "    len = length(inventory)\n",
    "    for n in inventory\n",
    "        if rest ÷ len >= n\n",
    "            len -= 1\n",
    "            rest -= n\n",
    "        else\n",
    "            break\n",
    "        end\n",
    "    end\n",
    "    q = rest ÷ len\n",
    "    r = rest - q * len\n",
    "    ret = 0\n",
    "    for i in (length(inventory) - len + 1):length(inventory)\n",
    "        ret += sum((q + 2):inventory[i])\n",
    "    end\n",
    "    ret += (q + 1) * (len - r)\n",
    "    return ret % (10^9 + 7)\n",
    "end"
   ],
   "metadata": {},
   "execution_count": 1
  },
  {
   "cell_type": "markdown",
   "source": [
    "---\n",
    "\n",
    "*This notebook was generated using [Literate.jl](https://github.com/fredrikekre/Literate.jl).*"
   ],
   "metadata": {}
  }
 ],
 "nbformat_minor": 3,
 "metadata": {
  "language_info": {
   "file_extension": ".jl",
   "mimetype": "application/julia",
   "name": "julia",
   "version": "1.5.3"
  },
  "kernelspec": {
   "name": "julia-1.5",
   "display_name": "Julia 1.5.3",
   "language": "julia"
  }
 },
 "nbformat": 4
}
