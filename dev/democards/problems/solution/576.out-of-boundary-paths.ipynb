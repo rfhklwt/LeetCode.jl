{
 "cells": [
  {
   "outputs": [
    {
     "output_type": "execute_result",
     "data": {
      "text/plain": "find_paths (generic function with 1 method)"
     },
     "metadata": {},
     "execution_count": 1
    }
   ],
   "cell_type": "code",
   "source": [
    "using LeetCode, Test\n",
    "\n",
    "function find_paths(m, n, N, i, j)\n",
    "    dp = zeros(Int, m, n)\n",
    "\n",
    "    for _ in 1:N\n",
    "        t = copy(dp)\n",
    "        inds = CartesianIndices(t)\n",
    "        for x in inds\n",
    "            v = 0\n",
    "            for dir in ((0, -1), (0, 1), (1, 0), (-1, 0))\n",
    "                p = x + CartesianIndex(dir)\n",
    "                v += p ∈ inds ? t[p] : 1\n",
    "            end\n",
    "            dp[x] = v\n",
    "        end\n",
    "    end\n",
    "    return dp[i, j] % (10^9 + 7)\n",
    "end"
   ],
   "metadata": {},
   "execution_count": 1
  },
  {
   "cell_type": "markdown",
   "source": [
    "---\n",
    "\n",
    "*This notebook was generated using [Literate.jl](https://github.com/fredrikekre/Literate.jl).*"
   ],
   "metadata": {}
  }
 ],
 "nbformat_minor": 3,
 "metadata": {
  "language_info": {
   "file_extension": ".jl",
   "mimetype": "application/julia",
   "name": "julia",
   "version": "1.5.3"
  },
  "kernelspec": {
   "name": "julia-1.5",
   "display_name": "Julia 1.5.3",
   "language": "julia"
  }
 },
 "nbformat": 4
}
