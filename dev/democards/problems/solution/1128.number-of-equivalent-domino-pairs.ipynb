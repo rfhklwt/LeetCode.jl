{
 "cells": [
  {
   "outputs": [
    {
     "output_type": "execute_result",
     "data": {
      "text/plain": "num_equiv_domino_pairs (generic function with 1 method)"
     },
     "metadata": {},
     "execution_count": 1
    }
   ],
   "cell_type": "code",
   "source": [
    "using LeetCode, Test\n",
    "\n",
    "function num_equiv_domino_pairs(dominoes::Vector{Tuple{Int,Int}})::Int\n",
    "    counts = Dict{Tuple{Int,Int},Int}()\n",
    "    n = 0\n",
    "    for (k, v) in dominoes\n",
    "        p = minmax(k, v)\n",
    "        if haskey(counts, p)\n",
    "            n += counts[p]\n",
    "            counts[p] += 1\n",
    "        else\n",
    "            counts[p] = 1\n",
    "        end\n",
    "    end\n",
    "    return n\n",
    "end"
   ],
   "metadata": {},
   "execution_count": 1
  },
  {
   "cell_type": "markdown",
   "source": [
    "---\n",
    "\n",
    "*This notebook was generated using [Literate.jl](https://github.com/fredrikekre/Literate.jl).*"
   ],
   "metadata": {}
  }
 ],
 "nbformat_minor": 3,
 "metadata": {
  "language_info": {
   "file_extension": ".jl",
   "mimetype": "application/julia",
   "name": "julia",
   "version": "1.5.3"
  },
  "kernelspec": {
   "name": "julia-1.5",
   "display_name": "Julia 1.5.3",
   "language": "julia"
  }
 },
 "nbformat": 4
}
