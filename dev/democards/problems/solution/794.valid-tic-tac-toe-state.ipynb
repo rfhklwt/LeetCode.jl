{
 "cells": [
  {
   "outputs": [
    {
     "output_type": "execute_result",
     "data": {
      "text/plain": "is_win (generic function with 1 method)"
     },
     "metadata": {},
     "execution_count": 1
    }
   ],
   "cell_type": "code",
   "source": [
    "using LeetCode, Test\n",
    "\n",
    "function validTicTacToe(board::Array{Char})::Bool\n",
    "    n_X, n_O = 0, 0\n",
    "\n",
    "    for x in board\n",
    "        if x == 'X'\n",
    "            n_X += 1\n",
    "        elseif x == 'O'\n",
    "            n_O += 1\n",
    "        end\n",
    "    end\n",
    "\n",
    "    if n_O > n_X || n_X >= n_O + 2\n",
    "        false\n",
    "    elseif n_X >= 3\n",
    "        if n_X == n_O\n",
    "            if is_win(board, 'X')\n",
    "                false  ## Impossible! n_X should == x_O + 1\n",
    "            else\n",
    "                true\n",
    "            end\n",
    "        else\n",
    "            # @assert n_X == n_O + 1\n",
    "            if is_win(board, 'O')\n",
    "                false  ## Impossible!\n",
    "            else\n",
    "                true\n",
    "            end\n",
    "        end\n",
    "    else\n",
    "        true\n",
    "    end\n",
    "end\n",
    "\n",
    "function is_win(b, x)\n",
    "    return b[1] == b[2] == b[3] == x ||\n",
    "           b[4] == b[5] == b[6] == x ||\n",
    "           b[7] == b[8] == b[9] == x ||\n",
    "           b[1] == b[4] == b[7] == x ||\n",
    "           b[2] == b[5] == b[8] == x ||\n",
    "           b[3] == b[6] == b[9] == x ||\n",
    "           b[1] == b[5] == b[9] == x ||\n",
    "           b[3] == b[5] == b[7] == x\n",
    "end"
   ],
   "metadata": {},
   "execution_count": 1
  },
  {
   "cell_type": "markdown",
   "source": [
    "---\n",
    "\n",
    "*This notebook was generated using [Literate.jl](https://github.com/fredrikekre/Literate.jl).*"
   ],
   "metadata": {}
  }
 ],
 "nbformat_minor": 3,
 "metadata": {
  "language_info": {
   "file_extension": ".jl",
   "mimetype": "application/julia",
   "name": "julia",
   "version": "1.5.3"
  },
  "kernelspec": {
   "name": "julia-1.5",
   "display_name": "Julia 1.5.3",
   "language": "julia"
  }
 },
 "nbformat": 4
}
