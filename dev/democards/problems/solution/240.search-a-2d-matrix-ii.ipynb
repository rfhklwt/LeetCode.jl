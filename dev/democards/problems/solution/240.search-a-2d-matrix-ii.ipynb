{
 "cells": [
  {
   "outputs": [
    {
     "output_type": "execute_result",
     "data": {
      "text/plain": "search_matrix (generic function with 1 method)"
     },
     "metadata": {},
     "execution_count": 1
    }
   ],
   "cell_type": "code",
   "source": [
    "using LeetCode, Test\n",
    "\n",
    "function search_matrix(matrix::Matrix{Int}, target::Int)::Bool\n",
    "    row, col = size(matrix)\n",
    "    i, j = row, 1\n",
    "\n",
    "    while (i > 0 && j <= col)\n",
    "        last = matrix[i, j]\n",
    "\n",
    "        if (last == target)\n",
    "            return true\n",
    "        elseif last > target\n",
    "            i -= 1\n",
    "        else\n",
    "            j += 1\n",
    "        end\n",
    "    end\n",
    "\n",
    "    return false\n",
    "end"
   ],
   "metadata": {},
   "execution_count": 1
  },
  {
   "cell_type": "markdown",
   "source": [
    "---\n",
    "\n",
    "*This notebook was generated using [Literate.jl](https://github.com/fredrikekre/Literate.jl).*"
   ],
   "metadata": {}
  }
 ],
 "nbformat_minor": 3,
 "metadata": {
  "language_info": {
   "file_extension": ".jl",
   "mimetype": "application/julia",
   "name": "julia",
   "version": "1.5.3"
  },
  "kernelspec": {
   "name": "julia-1.5",
   "display_name": "Julia 1.5.3",
   "language": "julia"
  }
 },
 "nbformat": 4
}
