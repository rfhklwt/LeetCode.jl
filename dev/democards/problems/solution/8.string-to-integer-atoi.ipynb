{
 "cells": [
  {
   "outputs": [
    {
     "output_type": "execute_result",
     "data": {
      "text/plain": "my_atoi (generic function with 1 method)"
     },
     "metadata": {},
     "execution_count": 1
    }
   ],
   "cell_type": "code",
   "source": [
    "using LeetCode, Test\n",
    "\n",
    "function my_atoi(s::String)::Int\n",
    "    s = lstrip(s)\n",
    "    if length(s) == 0\n",
    "        0\n",
    "    else\n",
    "        try\n",
    "            m = match(r\"^[\\-\\+]?[0-9]+\", s)\n",
    "            if isnothing(m)\n",
    "                0\n",
    "            else\n",
    "                parse(Int32, m.match)\n",
    "            end\n",
    "        catch\n",
    "            if s[1] == '-'\n",
    "                typemin(Int32)\n",
    "            else\n",
    "                typemax(Int32)\n",
    "            end\n",
    "        end\n",
    "    end\n",
    "end"
   ],
   "metadata": {},
   "execution_count": 1
  },
  {
   "cell_type": "markdown",
   "source": [
    "---\n",
    "\n",
    "*This notebook was generated using [Literate.jl](https://github.com/fredrikekre/Literate.jl).*"
   ],
   "metadata": {}
  }
 ],
 "nbformat_minor": 3,
 "metadata": {
  "language_info": {
   "file_extension": ".jl",
   "mimetype": "application/julia",
   "name": "julia",
   "version": "1.5.3"
  },
  "kernelspec": {
   "name": "julia-1.5",
   "display_name": "Julia 1.5.3",
   "language": "julia"
  }
 },
 "nbformat": 4
}
