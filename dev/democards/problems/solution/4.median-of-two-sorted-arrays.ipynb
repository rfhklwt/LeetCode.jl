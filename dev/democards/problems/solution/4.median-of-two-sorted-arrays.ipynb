{
 "cells": [
  {
   "outputs": [
    {
     "output_type": "execute_result",
     "data": {
      "text/plain": "kth (generic function with 1 method)"
     },
     "metadata": {},
     "execution_count": 1
    }
   ],
   "cell_type": "code",
   "source": [
    "using LeetCode, Test\n",
    "\n",
    "function find_median_sorted_arrays(nums1::Vector{Int}, nums2::Vector{Int})::Float64\n",
    "    n = length(nums1) + length(nums2)\n",
    "    if isodd(n)\n",
    "        kth(nums1, nums2, n ÷ 2 + 1)\n",
    "    else\n",
    "        (kth(nums1, nums2, n ÷ 2) + kth(nums1, nums2, n ÷ 2 + 1)) / 2\n",
    "    end\n",
    "end\n",
    "\n",
    "function kth(a, b, k)\n",
    "    if isempty(a)\n",
    "        b[k]\n",
    "    elseif isempty(b)\n",
    "        a[k]\n",
    "    end\n",
    "\n",
    "    ia, ib = length(a) ÷ 2, length(b) ÷ 2\n",
    "    ma, mb = a[ia], b[ib]\n",
    "\n",
    "    # when k is bigger than the sum of a and b's median indices\n",
    "    if ia + ib < k\n",
    "        # if a's median is bigger than b's, b's first half doesn't include k\n",
    "        if ma > mb\n",
    "            kth(a, @view(b[(ib + 1): end]), k - ib)\n",
    "        else\n",
    "            kth(@view(a[(ia + 1): end]), b, k - ia)\n",
    "        end\n",
    "    # when k is smaller than the sum of a and b's indices\n",
    "    else\n",
    "        # if a's median is bigger than b's, a's second half doesn't include k\n",
    "        if ma > mb\n",
    "            kth(@view(a[1: (ia - 1)]), b, k)\n",
    "        else\n",
    "            kth(a, @view(b[1: (ib - 1)]), k)\n",
    "        end\n",
    "    end\n",
    "\n",
    "end"
   ],
   "metadata": {},
   "execution_count": 1
  },
  {
   "cell_type": "markdown",
   "source": [
    "---\n",
    "\n",
    "*This notebook was generated using [Literate.jl](https://github.com/fredrikekre/Literate.jl).*"
   ],
   "metadata": {}
  }
 ],
 "nbformat_minor": 3,
 "metadata": {
  "language_info": {
   "file_extension": ".jl",
   "mimetype": "application/julia",
   "name": "julia",
   "version": "1.5.3"
  },
  "kernelspec": {
   "name": "julia-1.5",
   "display_name": "Julia 1.5.3",
   "language": "julia"
  }
 },
 "nbformat": 4
}
