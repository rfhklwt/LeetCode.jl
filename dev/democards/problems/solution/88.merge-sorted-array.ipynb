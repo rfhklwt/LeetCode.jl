{
 "cells": [
  {
   "outputs": [
    {
     "output_type": "execute_result",
     "data": {
      "text/plain": "merge_sorted_array (generic function with 1 method)"
     },
     "metadata": {},
     "execution_count": 1
    }
   ],
   "cell_type": "code",
   "source": [
    "using LeetCode, Test\n",
    "\n",
    "function merge_sorted_array(\n",
    "    nums1::AbstractVector{Int}, m::Int, nums2::AbstractVector{Int}, n::Int\n",
    ")::Nothing\n",
    "    i = m + n\n",
    "    while m > 0 && n > 0\n",
    "        if nums1[m] > nums2[n]\n",
    "            nums1[i] = nums1[m]\n",
    "            m -= 1\n",
    "        else\n",
    "            nums1[i] = nums2[n]\n",
    "            n -= 1\n",
    "        end\n",
    "        i -= 1\n",
    "    end\n",
    "\n",
    "    while n > 0\n",
    "        nums1[i] = nums2[n]\n",
    "        n -= 1\n",
    "    end\n",
    "\n",
    "    return nothing\n",
    "end"
   ],
   "metadata": {},
   "execution_count": 1
  },
  {
   "cell_type": "markdown",
   "source": [
    "---\n",
    "\n",
    "*This notebook was generated using [Literate.jl](https://github.com/fredrikekre/Literate.jl).*"
   ],
   "metadata": {}
  }
 ],
 "nbformat_minor": 3,
 "metadata": {
  "language_info": {
   "file_extension": ".jl",
   "mimetype": "application/julia",
   "name": "julia",
   "version": "1.5.3"
  },
  "kernelspec": {
   "name": "julia-1.5",
   "display_name": "Julia 1.5.3",
   "language": "julia"
  }
 },
 "nbformat": 4
}
