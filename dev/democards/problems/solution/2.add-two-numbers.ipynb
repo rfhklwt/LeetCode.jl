{
 "cells": [
  {
   "outputs": [
    {
     "output_type": "execute_result",
     "data": {
      "text/plain": "add_two_numbers (generic function with 1 method)"
     },
     "metadata": {},
     "execution_count": 1
    }
   ],
   "cell_type": "code",
   "source": [
    "using LeetCode, Test\n",
    "\n",
    "function add_two_numbers(l1::ListNode, l2::ListNode)::ListNode\n",
    "    carry = 0\n",
    "    fake_head = cur = ListNode()\n",
    "\n",
    "    while !isnothing(l1) || !isnothing(l2) || !iszero(carry)\n",
    "        v1, v2 = 0, 0\n",
    "\n",
    "        if !isnothing(l1)\n",
    "            v1 = val(l1)\n",
    "            l1 = next(l1)\n",
    "        end\n",
    "\n",
    "        if !isnothing(l2)\n",
    "            v2 = val(l2)\n",
    "            l2 = next(l2)\n",
    "        end\n",
    "\n",
    "        carry, v = divrem(v1 + v2 + carry, 10)\n",
    "        next!(cur, ListNode(v))\n",
    "        cur = next(cur)\n",
    "    end\n",
    "\n",
    "    return next(fake_head)\n",
    "end"
   ],
   "metadata": {},
   "execution_count": 1
  },
  {
   "cell_type": "markdown",
   "source": [
    "---\n",
    "\n",
    "*This notebook was generated using [Literate.jl](https://github.com/fredrikekre/Literate.jl).*"
   ],
   "metadata": {}
  }
 ],
 "nbformat_minor": 3,
 "metadata": {
  "language_info": {
   "file_extension": ".jl",
   "mimetype": "application/julia",
   "name": "julia",
   "version": "1.5.3"
  },
  "kernelspec": {
   "name": "julia-1.5",
   "display_name": "Julia 1.5.3",
   "language": "julia"
  }
 },
 "nbformat": 4
}
