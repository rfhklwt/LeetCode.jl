{
 "cells": [
  {
   "outputs": [
    {
     "output_type": "execute_result",
     "data": {
      "text/plain": "max_path_sum (generic function with 1 method)"
     },
     "metadata": {},
     "execution_count": 1
    }
   ],
   "cell_type": "code",
   "source": [
    "using LeetCode, Test\n",
    "\n",
    "function max_path_sum(root::TreeNode)\n",
    "    max_val = typemin(Int)\n",
    "\n",
    "    function max_sum_to_leaf(x)\n",
    "        isnothing(x) && return 0\n",
    "        left = max_sum_to_leaf(x.left)\n",
    "        right = max_sum_to_leaf(x.right)\n",
    "        max_val = max(max_val, left + x.val + right)\n",
    "        return max(0, x.val + max(left, right))\n",
    "    end\n",
    "\n",
    "    max_sum_to_leaf(root)\n",
    "    return max_val\n",
    "end"
   ],
   "metadata": {},
   "execution_count": 1
  },
  {
   "cell_type": "markdown",
   "source": [
    "---\n",
    "\n",
    "*This notebook was generated using [Literate.jl](https://github.com/fredrikekre/Literate.jl).*"
   ],
   "metadata": {}
  }
 ],
 "nbformat_minor": 3,
 "metadata": {
  "language_info": {
   "file_extension": ".jl",
   "mimetype": "application/julia",
   "name": "julia",
   "version": "1.5.3"
  },
  "kernelspec": {
   "name": "julia-1.5",
   "display_name": "Julia 1.5.3",
   "language": "julia"
  }
 },
 "nbformat": 4
}
