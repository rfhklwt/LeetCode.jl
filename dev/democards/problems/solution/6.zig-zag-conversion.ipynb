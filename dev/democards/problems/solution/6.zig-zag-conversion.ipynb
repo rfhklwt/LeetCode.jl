{
 "cells": [
  {
   "outputs": [
    {
     "output_type": "execute_result",
     "data": {
      "text/plain": "zig_zag_convert (generic function with 1 method)"
     },
     "metadata": {},
     "execution_count": 1
    }
   ],
   "cell_type": "code",
   "source": [
    "using LeetCode, Test\n",
    "\n",
    "function zig_zag_convert(s::String, num_rows::Int)::String\n",
    "    if num_rows == 1 || num_rows >= length(s)\n",
    "        s\n",
    "    else\n",
    "        table = [Char[] for _ in 1:num_rows]\n",
    "        i, dir = 1, 1\n",
    "        for x in s\n",
    "            push!(table[i], x)\n",
    "            if i == 1\n",
    "                dir = 1\n",
    "            elseif i == num_rows\n",
    "                dir = -1\n",
    "            end\n",
    "            i += dir\n",
    "        end\n",
    "        join(Iterators.flatten(table))\n",
    "    end\n",
    "end"
   ],
   "metadata": {},
   "execution_count": 1
  },
  {
   "cell_type": "markdown",
   "source": [
    "---\n",
    "\n",
    "*This notebook was generated using [Literate.jl](https://github.com/fredrikekre/Literate.jl).*"
   ],
   "metadata": {}
  }
 ],
 "nbformat_minor": 3,
 "metadata": {
  "language_info": {
   "file_extension": ".jl",
   "mimetype": "application/julia",
   "name": "julia",
   "version": "1.5.3"
  },
  "kernelspec": {
   "name": "julia-1.5",
   "display_name": "Julia 1.5.3",
   "language": "julia"
  }
 },
 "nbformat": 4
}
