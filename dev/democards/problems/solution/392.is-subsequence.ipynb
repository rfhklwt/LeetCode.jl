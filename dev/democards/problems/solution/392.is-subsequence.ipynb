{
 "cells": [
  {
   "outputs": [
    {
     "output_type": "execute_result",
     "data": {
      "text/plain": "is_subsequence (generic function with 1 method)"
     },
     "metadata": {},
     "execution_count": 1
    }
   ],
   "cell_type": "code",
   "source": [
    "using LeetCode, Test\n",
    "\n",
    "function is_subsequence(s::String, t::String)::Bool\n",
    "    if length(s) == 0\n",
    "        true\n",
    "    else\n",
    "        i, j = 1, 1\n",
    "        while j <= length(t)\n",
    "            if s[i] == t[j]\n",
    "                i += 1\n",
    "                if i > length(s)\n",
    "                    return true\n",
    "                end\n",
    "            end\n",
    "            j += 1\n",
    "        end\n",
    "        false\n",
    "    end\n",
    "end"
   ],
   "metadata": {},
   "execution_count": 1
  },
  {
   "cell_type": "markdown",
   "source": [
    "---\n",
    "\n",
    "*This notebook was generated using [Literate.jl](https://github.com/fredrikekre/Literate.jl).*"
   ],
   "metadata": {}
  }
 ],
 "nbformat_minor": 3,
 "metadata": {
  "language_info": {
   "file_extension": ".jl",
   "mimetype": "application/julia",
   "name": "julia",
   "version": "1.5.3"
  },
  "kernelspec": {
   "name": "julia-1.5",
   "display_name": "Julia 1.5.3",
   "language": "julia"
  }
 },
 "nbformat": 4
}
