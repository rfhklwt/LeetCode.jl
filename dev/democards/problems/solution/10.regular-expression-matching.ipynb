{
 "cells": [
  {
   "outputs": [
    {
     "output_type": "execute_result",
     "data": {
      "text/plain": "is_match (generic function with 1 method)"
     },
     "metadata": {},
     "execution_count": 1
    }
   ],
   "cell_type": "code",
   "source": [
    "using LeetCode, Test\n",
    "\n",
    "function is_match(s::AbstractString, p::AbstractString)::Bool\n",
    "    if isempty(p)\n",
    "        isempty(s)\n",
    "    elseif length(p) >= 2 && p[2] == '*'\n",
    "        if !isempty(s) && (s[1] == p[1] || p[1] == '.')\n",
    "            # case 1: * means 1 or more of previous char, then the first char of `s` and `p` must match.\n",
    "            is_match(SubString(s, 2), p)\n",
    "        else\n",
    "            # case 2: * means zero of previous char, ignore it and match the rest\n",
    "            is_match(s, SubString(p, 3))\n",
    "        end\n",
    "    else\n",
    "        if isempty(s)\n",
    "            false  ## length mismatch\n",
    "        elseif (s[1] == p[1] || p[1] == '.')\n",
    "            is_match(SubString(s, 2), SubString(p, 2))\n",
    "        else\n",
    "            false  ## first char mismatch\n",
    "        end\n",
    "    end\n",
    "end"
   ],
   "metadata": {},
   "execution_count": 1
  },
  {
   "cell_type": "markdown",
   "source": [
    "---\n",
    "\n",
    "*This notebook was generated using [Literate.jl](https://github.com/fredrikekre/Literate.jl).*"
   ],
   "metadata": {}
  }
 ],
 "nbformat_minor": 3,
 "metadata": {
  "language_info": {
   "file_extension": ".jl",
   "mimetype": "application/julia",
   "name": "julia",
   "version": "1.5.3"
  },
  "kernelspec": {
   "name": "julia-1.5",
   "display_name": "Julia 1.5.3",
   "language": "julia"
  }
 },
 "nbformat": 4
}
