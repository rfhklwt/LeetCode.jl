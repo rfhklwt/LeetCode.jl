{
 "cells": [
  {
   "outputs": [
    {
     "output_type": "execute_result",
     "data": {
      "text/plain": "max_rotate_function (generic function with 1 method)"
     },
     "metadata": {},
     "execution_count": 1
    }
   ],
   "cell_type": "code",
   "source": [
    "using LeetCode, Test\n",
    "\n",
    "function max_rotate_function(A::Vector{Int})::Int\n",
    "    # f(i+1) = f(i) + ∑(A) - A[end] * length(A)\n",
    "    s = sum(A)\n",
    "    n = length(A)\n",
    "    cur = sum(k -> (k - 1) * A[k], 1:n)\n",
    "    res = cur\n",
    "    for i in n:-1:2\n",
    "        cur += s - n * A[i]\n",
    "        res = max(res, cur)\n",
    "    end\n",
    "    return res\n",
    "end"
   ],
   "metadata": {},
   "execution_count": 1
  },
  {
   "cell_type": "markdown",
   "source": [
    "---\n",
    "\n",
    "*This notebook was generated using [Literate.jl](https://github.com/fredrikekre/Literate.jl).*"
   ],
   "metadata": {}
  }
 ],
 "nbformat_minor": 3,
 "metadata": {
  "language_info": {
   "file_extension": ".jl",
   "mimetype": "application/julia",
   "name": "julia",
   "version": "1.5.3"
  },
  "kernelspec": {
   "name": "julia-1.5",
   "display_name": "Julia 1.5.3",
   "language": "julia"
  }
 },
 "nbformat": 4
}
