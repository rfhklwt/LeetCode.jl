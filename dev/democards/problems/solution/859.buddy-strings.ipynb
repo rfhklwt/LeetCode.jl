{
 "cells": [
  {
   "outputs": [
    {
     "output_type": "execute_result",
     "data": {
      "text/plain": "buddy_strings (generic function with 1 method)"
     },
     "metadata": {},
     "execution_count": 1
    }
   ],
   "cell_type": "code",
   "source": [
    "using LeetCode, Test\n",
    "\n",
    "function buddy_strings(A::String, B::String)::Bool\n",
    "    if length(A) == length(B)\n",
    "        different_pairs = Pair{Char,Char}[]\n",
    "        for (a, b) in zip(A, B)\n",
    "            if a != b\n",
    "                push!(different_pairs, a => b)\n",
    "            end\n",
    "        end\n",
    "        if length(different_pairs) == 0\n",
    "            # check if A contains at least 2 duplicate letters\n",
    "            length(Set(A)) < length(A)\n",
    "        elseif length(different_pairs) == 2\n",
    "            ((x, y), (z, w)) = different_pairs\n",
    "            x == w && y == z\n",
    "        else\n",
    "            false\n",
    "        end\n",
    "    else\n",
    "        false\n",
    "    end\n",
    "end"
   ],
   "metadata": {},
   "execution_count": 1
  },
  {
   "cell_type": "markdown",
   "source": [
    "---\n",
    "\n",
    "*This notebook was generated using [Literate.jl](https://github.com/fredrikekre/Literate.jl).*"
   ],
   "metadata": {}
  }
 ],
 "nbformat_minor": 3,
 "metadata": {
  "language_info": {
   "file_extension": ".jl",
   "mimetype": "application/julia",
   "name": "julia",
   "version": "1.5.3"
  },
  "kernelspec": {
   "name": "julia-1.5",
   "display_name": "Julia 1.5.3",
   "language": "julia"
  }
 },
 "nbformat": 4
}
