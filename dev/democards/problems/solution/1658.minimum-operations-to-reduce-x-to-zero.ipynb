{
 "cells": [
  {
   "outputs": [
    {
     "output_type": "execute_result",
     "data": {
      "text/plain": "min_operations (generic function with 1 method)"
     },
     "metadata": {},
     "execution_count": 1
    }
   ],
   "cell_type": "code",
   "source": [
    "using LeetCode, Test\n",
    "\n",
    "function min_operations(nums::Vector{Int}, x::Int)\n",
    "    rnums = reverse(nums)\n",
    "    if nums[1] > x && rnums[1] > x\n",
    "        return -1\n",
    "    end\n",
    "    len = length(nums)\n",
    "    rlm, llm, res = len, len, len\n",
    "    for i in 1:(len - 1)\n",
    "        if ((nums[i + 1] += nums[i]) > x)\n",
    "            rlm = i\n",
    "            break\n",
    "        end\n",
    "    end\n",
    "    if rm == len\n",
    "        if nums[end] < x\n",
    "            return -1\n",
    "        else\n",
    "            return len\n",
    "        end\n",
    "    end\n",
    "    for i in 1:(len - 1)\n",
    "        if ((rnums[i + 1] += rnums[i]) > x)\n",
    "            llm = i\n",
    "            break\n",
    "        end\n",
    "    end\n",
    "    i, j = 1, llm\n",
    "    while i <= rlm && j > 0\n",
    "        if nums[i] == x\n",
    "            res = min(i, res)\n",
    "            i += 1\n",
    "        elseif rnums[j] == x\n",
    "            res = min(j, res)\n",
    "            j -= 1\n",
    "        else\n",
    "            sm = nums[i] + rnums[j]\n",
    "            # println(i,\" \", j,\" \", sm)\n",
    "            if sm == x\n",
    "                res = min(i + j, res)\n",
    "                i += 1\n",
    "                j -= 1\n",
    "            elseif sm > x\n",
    "                j -= 1\n",
    "            else\n",
    "                i += 1\n",
    "            end\n",
    "        end\n",
    "    end\n",
    "    return res\n",
    "end"
   ],
   "metadata": {},
   "execution_count": 1
  },
  {
   "cell_type": "markdown",
   "source": [
    "---\n",
    "\n",
    "*This notebook was generated using [Literate.jl](https://github.com/fredrikekre/Literate.jl).*"
   ],
   "metadata": {}
  }
 ],
 "nbformat_minor": 3,
 "metadata": {
  "language_info": {
   "file_extension": ".jl",
   "mimetype": "application/julia",
   "name": "julia",
   "version": "1.5.3"
  },
  "kernelspec": {
   "name": "julia-1.5",
   "display_name": "Julia 1.5.3",
   "language": "julia"
  }
 },
 "nbformat": 4
}
